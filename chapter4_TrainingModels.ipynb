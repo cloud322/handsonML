{
 "cells": [
  {
   "cell_type": "markdown",
   "metadata": {
    "slideshow": {
     "slide_type": "slide"
    }
   },
   "source": [
    "# Training Models"
   ]
  },
  {
   "cell_type": "markdown",
   "metadata": {
    "slideshow": {
     "slide_type": "slide"
    }
   },
   "source": [
    "\n",
    "Linear Regression model\n",
    "    Using a direct “closed-form” equation\n",
    "    Using an iterative optimization approach called Gradient Descent (GD)\n",
    "    \n",
    "Polynomial Regression\n",
    "    a more complex model that can fit non‐ linear datasets\n",
    "    \n",
    "Two more models that are commonly used for classification tasks\n",
    "    Logistic Regression and Softmax Regressi\n",
    "    "
   ]
  },
  {
   "cell_type": "markdown",
   "metadata": {
    "slideshow": {
     "slide_type": "slide"
    }
   },
   "source": [
    "# Linear Regression"
   ]
  },
  {
   "cell_type": "markdown",
   "metadata": {
    "slideshow": {
     "slide_type": "slide"
    }
   },
   "source": [
    "$\\hat{y} = h_θ(x) = θ · x = θ_0x_0 + θ_1x_1 + θ_2x_2 + ... + θ_nx_n.$\n",
    "\n",
    "how do we train it?\n",
    "    we need to find the value of θ that minimizes the RMSE\n",
    "To find the value of θ that minimizes the cost function  \n",
    "Normal Equation  \n",
    "    $θ=X^⊺X^{−1} X^⊺ y$  \n",
    "<br>  \n",
    "$θ^⊺$ is the transpose of θ (a row vector instead of a column vector)  \n",
    "$MSE(X,h_θ) =m∑(θ^⊺x^{(i)}−y^{(i)})^2$"
   ]
  },
  {
   "cell_type": "code",
   "execution_count": 9,
   "metadata": {
    "ExecuteTime": {
     "end_time": "2020-06-18T17:01:09.209078Z",
     "start_time": "2020-06-18T17:01:09.190017Z"
    },
    "slideshow": {
     "slide_type": "slide"
    }
   },
   "outputs": [],
   "source": [
    "\n",
    "# Python ≥3.5 is required\n",
    "import sys\n",
    "assert sys.version_info >= (3, 5)\n",
    "\n",
    "# Scikit-Learn ≥0.20 is required\n",
    "import sklearn\n",
    "assert sklearn.__version__ >= \"0.20\"\n",
    "\n",
    "# Common imports\n",
    "import numpy as np\n",
    "import os\n",
    "\n",
    "# to make this notebook's output stable across runs\n",
    "np.random.seed(42)\n",
    "\n",
    "# To plot pretty figures\n",
    "%matplotlib inline\n",
    "import matplotlib as mpl\n",
    "import matplotlib.pyplot as plt\n",
    "mpl.rc('axes', labelsize=14)\n",
    "mpl.rc('xtick', labelsize=12)\n",
    "mpl.rc('ytick', labelsize=12)\n",
    "\n",
    "# Where to save the figures\n",
    "PROJECT_ROOT_DIR = \".\"\n",
    "CHAPTER_ID = \"training_linear_models\"\n",
    "IMAGES_PATH = os.path.join(PROJECT_ROOT_DIR, \"images\", CHAPTER_ID)\n",
    "os.makedirs(IMAGES_PATH, exist_ok=True)\n",
    "\n",
    "def save_fig(fig_id, tight_layout=True, fig_extension=\"png\", resolution=300):\n",
    "    path = os.path.join(IMAGES_PATH, fig_id + \".\" + fig_extension)\n",
    "    print(\"Saving figure\", fig_id)\n",
    "    if tight_layout:\n",
    "        plt.tight_layout()\n",
    "    plt.savefig(path, format=fig_extension, dpi=resolution)\n",
    "\n",
    "# Ignore useless warnings (see SciPy issue #5998)\n",
    "import warnings\n",
    "warnings.filterwarnings(action=\"ignore\", message=\"^internal gelsd\")"
   ]
  },
  {
   "cell_type": "markdown",
   "metadata": {
    "slideshow": {
     "slide_type": "slide"
    }
   },
   "source": [
    "# Linear regression using the Normal Equation  \n",
    "***  \n",
    "To find the value of θ that minimizes the cost function  \n",
    " - Normal Equation  \n",
    " $\\hat{θ}=X^⊺X^{−1} X^⊺ y$ "
   ]
  },
  {
   "cell_type": "code",
   "execution_count": 1,
   "metadata": {
    "ExecuteTime": {
     "end_time": "2020-06-18T16:44:45.438543Z",
     "start_time": "2020-06-18T16:44:45.188801Z"
    },
    "slideshow": {
     "slide_type": "slide"
    }
   },
   "outputs": [],
   "source": [
    "import numpy as np\n",
    "\n",
    "# 0부터 1사이의 균일 분포 100개\n",
    "X = 2 * np.random.rand(100, 1)\n",
    "y = 4 + 3 * X + np.random.randn(100, 1)"
   ]
  },
  {
   "cell_type": "code",
   "execution_count": 28,
   "metadata": {
    "ExecuteTime": {
     "end_time": "2020-05-02T06:16:46.302796Z",
     "start_time": "2020-05-02T06:16:46.295383Z"
    },
    "scrolled": true
   },
   "outputs": [
    {
     "name": "stdout",
     "output_type": "stream",
     "text": [
      "[[0.71194536]\n",
      " [1.51569222]\n",
      " [0.02878698]\n",
      " [0.23214528]\n",
      " [0.09200528]\n",
      " [0.0814576 ]\n",
      " [1.71092117]\n",
      " [1.40731572]\n",
      " [0.94834766]\n",
      " [0.19566832]\n",
      " [0.98323175]\n",
      " [0.94694354]\n",
      " [0.34640374]\n",
      " [0.8677033 ]\n",
      " [0.79700947]\n",
      " [1.2317002 ]\n",
      " [1.2701873 ]\n",
      " [0.09060802]\n",
      " [0.74922523]\n",
      " [1.25171983]\n",
      " [1.00627252]\n",
      " [1.71297968]\n",
      " [1.31738726]\n",
      " [0.32586885]\n",
      " [0.14113749]\n",
      " [1.28483856]\n",
      " [0.05302262]\n",
      " [1.17155116]\n",
      " [1.88046048]\n",
      " [1.15094836]\n",
      " [0.77633985]\n",
      " [1.28657644]\n",
      " [0.91650578]\n",
      " [1.09123358]\n",
      " [1.88292962]\n",
      " [0.77220528]\n",
      " [1.92238113]\n",
      " [1.81070128]\n",
      " [0.39158227]\n",
      " [0.1387226 ]\n",
      " [0.201556  ]\n",
      " [0.03644365]\n",
      " [0.18888592]\n",
      " [1.36601355]\n",
      " [0.1423773 ]\n",
      " [0.63795126]\n",
      " [1.68975062]\n",
      " [0.04654387]\n",
      " [1.62893697]\n",
      " [0.56370955]\n",
      " [0.23632966]\n",
      " [1.39347433]\n",
      " [1.25788569]\n",
      " [1.75494403]\n",
      " [1.47014209]\n",
      " [1.60696186]\n",
      " [0.56406915]\n",
      " [0.35487909]\n",
      " [1.5012295 ]\n",
      " [1.61366948]\n",
      " [1.98101028]\n",
      " [0.82523535]\n",
      " [0.74403617]\n",
      " [1.55282592]\n",
      " [0.68160708]\n",
      " [1.86151465]\n",
      " [1.7168255 ]\n",
      " [0.85798805]\n",
      " [1.50174214]\n",
      " [1.50908575]\n",
      " [0.20624774]\n",
      " [1.80510581]\n",
      " [1.01050474]\n",
      " [1.65291493]\n",
      " [0.6400992 ]\n",
      " [1.79104646]\n",
      " [0.77840336]\n",
      " [0.0216753 ]\n",
      " [1.81076395]\n",
      " [0.18257335]\n",
      " [0.63862728]\n",
      " [1.90012393]\n",
      " [1.90121429]\n",
      " [1.14687578]\n",
      " [1.26367442]\n",
      " [0.89689104]\n",
      " [0.58642154]\n",
      " [0.65732909]\n",
      " [1.34503691]\n",
      " [1.50474906]\n",
      " [1.58315809]\n",
      " [1.57923629]\n",
      " [0.18241221]\n",
      " [0.98884061]\n",
      " [0.11511752]\n",
      " [1.09905776]\n",
      " [0.883061  ]\n",
      " [1.77540837]\n",
      " [0.70183003]\n",
      " [0.23413403]]\n"
     ]
    }
   ],
   "source": [
    "print(X)"
   ]
  },
  {
   "cell_type": "code",
   "execution_count": 4,
   "metadata": {
    "ExecuteTime": {
     "end_time": "2020-06-18T16:45:12.875817Z",
     "start_time": "2020-06-18T16:45:11.730278Z"
    },
    "slideshow": {
     "slide_type": "slide"
    }
   },
   "outputs": [
    {
     "name": "stdout",
     "output_type": "stream",
     "text": [
      "Saving figure generated_data_plot\n"
     ]
    },
    {
     "data": {
      "image/png": "[encoded data removed]",
      "text/plain": [
       "<Figure size 432x288 with 1 Axes>"
      ]
     },
     "metadata": {
      "needs_background": "light"
     },
     "output_type": "display_data"
    }
   ],
   "source": [
    "plt.plot(X, y, \"b.\")\n",
    "plt.xlabel(\"$x_1$\", fontsize=18, color='white')\n",
    "plt.ylabel(\"$y$\", rotation=0, fontsize=18, color='white')\n",
    "plt.axis([0, 2, 0, 15])\n",
    "save_fig(\"generated_data_plot\")\n",
    "plt.show()"
   ]
  },
  {
   "cell_type": "markdown",
   "metadata": {
    "slideshow": {
     "slide_type": "slide"
    }
   },
   "source": [
    "#### np.linalg.inv()  \n",
    " - compute the inverse of a matrix  \n",
    "\n",
    "#### dot()  \n",
    " - for matrix multiplication  \n",
    " \n",
    " $\\hat{θ}=X^⊺X^{−1} X^⊺ y$ \n"
   ]
  },
  {
   "cell_type": "code",
   "execution_count": 5,
   "metadata": {
    "ExecuteTime": {
     "end_time": "2020-06-18T16:45:31.595554Z",
     "start_time": "2020-06-18T16:45:31.586948Z"
    },
    "slideshow": {
     "slide_type": "slide"
    }
   },
   "outputs": [],
   "source": [
    "X_b = np.c_[np.ones((100, 1)), X]  # add x0 = 1 to each instance, -> [1.        , 1.32993238]\n",
    "# compute θ using the Normal Equation inv()\n",
    "theta_best = np.linalg.inv(X_b.T.dot(X_b)).dot(X_b.T).dot(y)\n",
    "# np.linalg to compute the inverse of a matrix"
   ]
  },
  {
   "cell_type": "code",
   "execution_count": 6,
   "metadata": {
    "ExecuteTime": {
     "end_time": "2020-06-18T16:45:42.550047Z",
     "start_time": "2020-06-18T16:45:42.540045Z"
    },
    "scrolled": true
   },
   "outputs": [
    {
     "data": {
      "text/plain": [
       "array([[1.        , 1.32993238],\n",
       "       [1.        , 0.49256351],\n",
       "       [1.        , 1.75688665],\n",
       "       [1.        , 1.42443108],\n",
       "       [1.        , 1.04002533],\n",
       "       [1.        , 0.0262375 ],\n",
       "       [1.        , 1.58582261],\n",
       "       [1.        , 0.70398691],\n",
       "       [1.        , 1.23961489],\n",
       "       [1.        , 1.1775736 ],\n",
       "       [1.        , 1.98032071],\n",
       "       [1.        , 1.49951165],\n",
       "       [1.        , 0.21362148],\n",
       "       [1.        , 0.82853652],\n",
       "       [1.        , 0.02781471],\n",
       "       [1.        , 1.65205193],\n",
       "       [1.        , 1.54465326],\n",
       "       [1.        , 0.74672703],\n",
       "       [1.        , 1.1485161 ],\n",
       "       [1.        , 0.26489439],\n",
       "       [1.        , 1.04197838],\n",
       "       [1.        , 1.41114343],\n",
       "       [1.        , 1.19513096],\n",
       "       [1.        , 0.29764191],\n",
       "       [1.        , 0.13338123],\n",
       "       [1.        , 1.13522806],\n",
       "       [1.        , 0.41535529],\n",
       "       [1.        , 1.85012339],\n",
       "       [1.        , 0.71141064],\n",
       "       [1.        , 0.84164424],\n",
       "       [1.        , 1.71529202],\n",
       "       [1.        , 1.25855709],\n",
       "       [1.        , 1.43935564],\n",
       "       [1.        , 1.02586132],\n",
       "       [1.        , 1.90231525],\n",
       "       [1.        , 1.57510806],\n",
       "       [1.        , 0.44624939],\n",
       "       [1.        , 1.68425104],\n",
       "       [1.        , 0.33192516],\n",
       "       [1.        , 1.75945566],\n",
       "       [1.        , 1.58043368],\n",
       "       [1.        , 0.92389095],\n",
       "       [1.        , 1.69834362],\n",
       "       [1.        , 1.00318307],\n",
       "       [1.        , 0.73953848],\n",
       "       [1.        , 0.71026576],\n",
       "       [1.        , 0.19065557],\n",
       "       [1.        , 0.83289774],\n",
       "       [1.        , 0.60678634],\n",
       "       [1.        , 0.03719631],\n",
       "       [1.        , 0.40958928],\n",
       "       [1.        , 0.93597764],\n",
       "       [1.        , 1.19100687],\n",
       "       [1.        , 1.91701222],\n",
       "       [1.        , 0.01940821],\n",
       "       [1.        , 0.50032871],\n",
       "       [1.        , 0.7412237 ],\n",
       "       [1.        , 1.13152786],\n",
       "       [1.        , 0.70909229],\n",
       "       [1.        , 0.35115095],\n",
       "       [1.        , 0.75254233],\n",
       "       [1.        , 0.70318284],\n",
       "       [1.        , 1.5623595 ],\n",
       "       [1.        , 1.77615065],\n",
       "       [1.        , 1.23942094],\n",
       "       [1.        , 0.4019632 ],\n",
       "       [1.        , 0.2968449 ],\n",
       "       [1.        , 1.47660089],\n",
       "       [1.        , 0.52907707],\n",
       "       [1.        , 0.09087966],\n",
       "       [1.        , 1.17684187],\n",
       "       [1.        , 0.5213307 ],\n",
       "       [1.        , 0.64440482],\n",
       "       [1.        , 0.80940009],\n",
       "       [1.        , 0.95608554],\n",
       "       [1.        , 1.7061395 ],\n",
       "       [1.        , 1.64622404],\n",
       "       [1.        , 1.60463221],\n",
       "       [1.        , 1.78438821],\n",
       "       [1.        , 1.12163513],\n",
       "       [1.        , 1.6541541 ],\n",
       "       [1.        , 0.81667815],\n",
       "       [1.        , 1.25334217],\n",
       "       [1.        , 1.99252006],\n",
       "       [1.        , 1.33105439],\n",
       "       [1.        , 0.28096233],\n",
       "       [1.        , 0.52522632],\n",
       "       [1.        , 0.18855757],\n",
       "       [1.        , 1.92801576],\n",
       "       [1.        , 1.65568633],\n",
       "       [1.        , 0.24983022],\n",
       "       [1.        , 0.95363524],\n",
       "       [1.        , 0.15771857],\n",
       "       [1.        , 1.76821542],\n",
       "       [1.        , 1.13501106],\n",
       "       [1.        , 1.0290097 ],\n",
       "       [1.        , 0.80330516],\n",
       "       [1.        , 0.87818388],\n",
       "       [1.        , 0.55667429],\n",
       "       [1.        , 0.05427578]])"
      ]
     },
     "execution_count": 6,
     "metadata": {},
     "output_type": "execute_result"
    }
   ],
   "source": [
    "X_b"
   ]
  },
  {
   "cell_type": "code",
   "execution_count": 25,
   "metadata": {
    "ExecuteTime": {
     "end_time": "2020-05-02T06:13:51.988011Z",
     "start_time": "2020-05-02T06:13:51.977556Z"
    },
    "slideshow": {
     "slide_type": "slide"
    }
   },
   "outputs": [
    {
     "data": {
      "text/plain": [
       "array([[4.21509616],\n",
       "       [2.77011339]])"
      ]
     },
     "execution_count": 25,
     "metadata": {},
     "output_type": "execute_result"
    }
   ],
   "source": [
    "theta_best\n",
    "# We would have hoped for θ0 = 4 and θ1 = 3 instead of θ0 = 4.215 and θ1 = 2.770"
   ]
  },
  {
   "cell_type": "code",
   "execution_count": 29,
   "metadata": {
    "ExecuteTime": {
     "end_time": "2020-05-02T06:20:16.441891Z",
     "start_time": "2020-05-02T06:20:16.433544Z"
    },
    "slideshow": {
     "slide_type": "slide"
    }
   },
   "outputs": [
    {
     "data": {
      "text/plain": [
       "array([[4.21509616],\n",
       "       [9.75532293]])"
      ]
     },
     "execution_count": 29,
     "metadata": {},
     "output_type": "execute_result"
    }
   ],
   "source": [
    "X_new = np.array([[0], [2]])\n",
    "X_new_b = np.c_[np.ones((2, 1)), X_new]  # add x0 = 1 to each instance\n",
    "y_predict = X_new_b.dot(theta_best)\n",
    "# .dot() for matrix multiplication\n",
    "y_predict"
   ]
  },
  {
   "cell_type": "code",
   "execution_count": 8,
   "metadata": {
    "ExecuteTime": {
     "end_time": "2020-06-18T16:59:13.659104Z",
     "start_time": "2020-06-18T16:59:13.651197Z"
    }
   },
   "outputs": [
    {
     "data": {
      "text/plain": [
       "array([[1.],\n",
       "       [1.]])"
      ]
     },
     "execution_count": 8,
     "metadata": {},
     "output_type": "execute_result"
    }
   ],
   "source": [
    "np.ones((2, 1))"
   ]
  },
  {
   "cell_type": "code",
   "execution_count": 46,
   "metadata": {
    "ExecuteTime": {
     "end_time": "2020-05-02T06:34:19.806979Z",
     "start_time": "2020-05-02T06:34:19.790560Z"
    }
   },
   "outputs": [
    {
     "data": {
      "text/plain": [
       "array([[1., 0.],\n",
       "       [1., 2.]])"
      ]
     },
     "execution_count": 46,
     "metadata": {},
     "output_type": "execute_result"
    }
   ],
   "source": [
    "X_new_b"
   ]
  },
  {
   "cell_type": "code",
   "execution_count": 34,
   "metadata": {
    "ExecuteTime": {
     "end_time": "2020-05-02T06:22:49.735477Z",
     "start_time": "2020-05-02T06:22:49.548122Z"
    },
    "slideshow": {
     "slide_type": "slide"
    }
   },
   "outputs": [
    {
     "data": {
      "image/png": "[encoded data removed]",
      "text/plain": [
       "<Figure size 432x288 with 1 Axes>"
      ]
     },
     "metadata": {
      "needs_background": "light"
     },
     "output_type": "display_data"
    }
   ],
   "source": [
    "plt.plot(X_new, y_predict, \"r-\")\n",
    "plt.plot(X, y, \"b.\")\n",
    "plt.axis([0, 2, 0, 15])\n",
    "plt.show()"
   ]
  },
  {
   "cell_type": "code",
   "execution_count": 43,
   "metadata": {
    "ExecuteTime": {
     "end_time": "2020-05-02T06:31:37.663084Z",
     "start_time": "2020-05-02T06:31:36.914873Z"
    },
    "slideshow": {
     "slide_type": "slide"
    }
   },
   "outputs": [
    {
     "name": "stderr",
     "output_type": "stream",
     "text": [
      "/usr/local/anaconda3/lib/python3.7/site-packages/ipykernel_launcher.py:6: MatplotlibDeprecationWarning: Passing unsupported keyword arguments to axis() will raise a TypeError in 3.3.\n",
      "  \n"
     ]
    },
    {
     "name": "stdout",
     "output_type": "stream",
     "text": [
      "Saving figure linear_model_predictions_plot\n"
     ]
    },
    {
     "data": {
      "image/png": "[encoded data removed]",
      "text/plain": [
       "<Figure size 432x288 with 1 Axes>"
      ]
     },
     "metadata": {
      "needs_background": "light"
     },
     "output_type": "display_data"
    }
   ],
   "source": [
    "plt.plot(X_new, y_predict, \"r-\", linewidth=2, label=\"Predictions\")\n",
    "plt.plot(X, y, \"b.\")\n",
    "plt.xlabel(\"$x_1$\", fontsize=18, color='white')\n",
    "plt.ylabel(\"$y$\", rotation=0, fontsize=18, color='white')\n",
    "plt.legend(loc=\"upper left\", fontsize=14)\n",
    "plt.axis([0, 2, 0, 15])\n",
    "save_fig(\"linear_model_predictions_plot\")\n",
    "plt.show()"
   ]
  },
  {
   "cell_type": "markdown",
   "metadata": {
    "slideshow": {
     "slide_type": "slide"
    }
   },
   "source": [
    "# Singular Value Decomposition (SVD) \n",
    "***    \n",
    "pseudoinverse itself is computed using a standard matrix factorization technique  \n",
    "X into the matrix multiplication of three matrices $U\\ Σ\\ V^⊺$   \n",
    "#### numpy.linalg.svd()  \n",
    "pseudoinverse is computed as $X^+ = VΣ^+ U^⊺$ \n"
   ]
  },
  {
   "cell_type": "code",
   "execution_count": 47,
   "metadata": {
    "ExecuteTime": {
     "end_time": "2020-05-02T06:40:59.009379Z",
     "start_time": "2020-05-02T06:40:58.717284Z"
    },
    "slideshow": {
     "slide_type": "slide"
    }
   },
   "outputs": [
    {
     "data": {
      "text/plain": [
       "(array([3.93829632]), array([[3.1429825]]))"
      ]
     },
     "execution_count": 47,
     "metadata": {},
     "output_type": "execute_result"
    }
   ],
   "source": [
    "from sklearn.linear_model import LinearRegression\n",
    "\n",
    "lin_reg = LinearRegression()\n",
    "lin_reg.fit(X, y)\n",
    "lin_reg.intercept_, lin_reg.coef_"
   ]
  },
  {
   "cell_type": "code",
   "execution_count": 48,
   "metadata": {
    "ExecuteTime": {
     "end_time": "2020-05-02T06:41:26.956549Z",
     "start_time": "2020-05-02T06:41:26.949240Z"
    },
    "slideshow": {
     "slide_type": "slide"
    }
   },
   "outputs": [
    {
     "data": {
      "text/plain": [
       "array([[ 3.93829632],\n",
       "       [10.22426133]])"
      ]
     },
     "execution_count": 48,
     "metadata": {},
     "output_type": "execute_result"
    }
   ],
   "source": [
    "lin_reg.predict(X_new)"
   ]
  },
  {
   "cell_type": "markdown",
   "metadata": {},
   "source": [
    "The LinearRegression class is based on the scipy.linalg.lstsq() function (the name stands for \"least squares\"), which you could call directly:"
   ]
  },
  {
   "cell_type": "code",
   "execution_count": null,
   "metadata": {
    "ExecuteTime": {
     "end_time": "2020-05-02T06:45:43.200313Z",
     "start_time": "2020-05-02T06:45:43.190544Z"
    },
    "slideshow": {
     "slide_type": "slide"
    }
   },
   "outputs": [],
   "source": [
    "theta_best_svd, residuals, rank, s = np.linalg.lstsq(X_b, y, rcond=1e-6)\n",
    "# This function computes θ = X+ y, X+ is the pseudoinverse of X\n",
    "theta_best_svd\n"
   ]
  },
  {
   "cell_type": "markdown",
   "metadata": {},
   "source": [
    "This function computes $\\mathbf{X}^+\\mathbf{y}$, where $\\mathbf{X}^{+}$ is the pseudoinverse of $\\mathbf{X}$ (specifically the Moore-Penrose inverse). You can use np.linalg.pinv() to compute the pseudoinverse directly:"
   ]
  },
  {
   "cell_type": "code",
   "execution_count": 10,
   "metadata": {
    "ExecuteTime": {
     "end_time": "2020-06-18T17:23:30.012634Z",
     "start_time": "2020-06-18T17:23:29.995676Z"
    }
   },
   "outputs": [
    {
     "data": {
      "text/plain": [
       "array([[3.79210266],\n",
       "       [3.19292033]])"
      ]
     },
     "execution_count": 10,
     "metadata": {},
     "output_type": "execute_result"
    }
   ],
   "source": [
    "np.linalg.pinv(X_b).dot(y)"
   ]
  },
  {
   "cell_type": "markdown",
   "metadata": {
    "slideshow": {
     "slide_type": "slide"
    }
   },
   "source": [
    "The pseudoinverse itself is computed using a standard matrix factorization technique\n",
    "called Singular Value Decomposition (SVD)\n",
    "\n",
    "pseudoinverse is computed as X = VΣ U \n"
   ]
  },
  {
   "cell_type": "code",
   "execution_count": 13,
   "metadata": {
    "ExecuteTime": {
     "end_time": "2020-05-06T12:36:18.004442Z",
     "start_time": "2020-05-06T12:36:17.975662Z"
    }
   },
   "outputs": [
    {
     "name": "stdout",
     "output_type": "stream",
     "text": [
      "                                      colA\n",
      "0  [['k', 2], ['p', 3], ['', 4], ['', 10]]\n",
      "1      [['',3], ['', 8], ['s', 8], ['',2]]\n"
     ]
    }
   ],
   "source": [
    "import numpy as np\n",
    "import pandas as pd\n",
    "\n",
    "df =pd.read_csv('/Users/j/Downloads/sample.csv')\n",
    "print(df)\n",
    "\n"
   ]
  },
  {
   "cell_type": "code",
   "execution_count": null,
   "metadata": {
    "ExecuteTime": {
     "end_time": "2020-05-06T13:11:03.466812Z",
     "start_time": "2020-05-06T13:11:03.449084Z"
    }
   },
   "outputs": [],
   "source": []
  },
  {
   "cell_type": "code",
   "execution_count": null,
   "metadata": {
    "ExecuteTime": {
     "end_time": "2020-05-06T13:05:49.837033Z",
     "start_time": "2020-05-06T13:05:49.823239Z"
    }
   },
   "outputs": [],
   "source": []
  },
  {
   "cell_type": "code",
   "execution_count": null,
   "metadata": {
    "ExecuteTime": {
     "end_time": "2020-05-06T13:06:00.429271Z",
     "start_time": "2020-05-06T13:06:00.423022Z"
    }
   },
   "outputs": [],
   "source": []
  },
  {
   "cell_type": "code",
   "execution_count": null,
   "metadata": {},
   "outputs": [],
   "source": []
  }
 ],
 "metadata": {
  "celltoolbar": "Slideshow",
  "kernelspec": {
   "display_name": "Python 3",
   "language": "python",
   "name": "python3"
  },
  "language_info": {
   "codemirror_mode": {
    "name": "ipython",
    "version": 3
   },
   "file_extension": ".py",
   "mimetype": "text/x-python",
   "name": "python",
   "nbconvert_exporter": "python",
   "pygments_lexer": "ipython3",
   "version": "3.7.7"
  }
 },
 "nbformat": 4,
 "nbformat_minor": 4
}
